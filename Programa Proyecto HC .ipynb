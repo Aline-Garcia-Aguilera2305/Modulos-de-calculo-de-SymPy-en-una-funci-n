{
 "cells": [
  {
   "cell_type": "code",
   "execution_count": 1,
   "metadata": {},
   "outputs": [],
   "source": [
    "from sympy import *\n",
    "x = Symbol('x')\n",
    "init_printing()\n",
    "import matplotlib.pyplot as plt\n",
    "import numpy as np\n",
    "import math"
   ]
  },
  {
   "cell_type": "code",
   "execution_count": 2,
   "metadata": {},
   "outputs": [],
   "source": [
    "f = x**3 - 6*x**2 - 15*x + 40\n"
   ]
  },
  {
   "cell_type": "code",
   "execution_count": 3,
   "metadata": {},
   "outputs": [
    {
     "data": {
      "image/png": "[encoded data removed]",
      "text/latex": [
       "$\\displaystyle \\left( 3 x^{2} - 12 x - 15, \\  6 \\left(x - 2\\right)\\right)$"
      ],
      "text/plain": [
       "⎛   2                       ⎞\n",
       "⎝3⋅x  - 12⋅x - 15, 6⋅(x - 2)⎠"
      ]
     },
     "execution_count": 3,
     "metadata": {},
     "output_type": "execute_result"
    }
   ],
   "source": [
    "prider = diff(f, x)\n",
    "segder = diff(f,x,2)\n",
    "prider, segder"
   ]
  },
  {
   "cell_type": "code",
   "execution_count": 4,
   "metadata": {},
   "outputs": [
    {
     "data": {
      "image/png": "[encoded data removed]",
      "text/latex": [
       "$\\displaystyle \\left[ -1, \\  5\\right]$"
      ],
      "text/plain": [
       "[-1, 5]"
      ]
     },
     "execution_count": 4,
     "metadata": {},
     "output_type": "execute_result"
    }
   ],
   "source": [
    "soluciones = solve(Eq(prider, 0))\n",
    "soluciones"
   ]
  },
  {
   "cell_type": "code",
   "execution_count": 5,
   "metadata": {},
   "outputs": [],
   "source": [
    "def prueba(f, a , b):\n",
    "    P=np.zeros([4])\n",
    "    P[0]=float(input(\"Termino al cubo:\"))\n",
    "    P[1]=float(input(\"Termino al cuadrado:\"))\n",
    "    P[2]=float(input(\"Termino lineal:\"))\n",
    "    P[3]=float(input(\"Termino independiente:\"))\n",
    "    raices = np.roots(P)\n",
    "    \"\"\" funcion prueba que regresa los puntos criticos, puntos maximo o minimo , las raices de la funcion y si es concava o convexa\"\"\"\n",
    "    prider = diff(f, x, 1)\n",
    "    segder = diff(f, x, 2)\n",
    "    puntoscriticos = solve(Eq(prider,0))\n",
    "    for i in puntoscriticos:\n",
    "        if segder.subs(x, i ) > 0 :\n",
    "            diferencia = \"Minimo\"\n",
    "            \n",
    "        elif segder.subs(x, i ) < 0 :\n",
    "            diferencia = \"Maximo\"\n",
    "        else :\n",
    "            segder.subs(x, i ) == 0\n",
    "            diferencia = \"indefinido\"\n",
    "        \n",
    "        print(\"x = %f (%s)\"%(i,diferencia))\n",
    "    \n",
    "    numer = int(1)\n",
    "    suma1 = puntoscriticos[0] - numer\n",
    "    suma2 = puntoscriticos[0] + numer\n",
    "    suma3 = puntoscriticos[1] + numer\n",
    "    \n",
    "    if prider.subs(x, suma1) > 0 :\n",
    "        creciodecre = \"creciente\"\n",
    "            \n",
    "    elif prider.subs(x, suma1) < 0 :\n",
    "        creciodecre = \"decreciente\"\n",
    "    \n",
    "    print(\"La función en el intervalo de: -(infinito) a\",puntoscriticos[0],\"es :\",creciodecre)\n",
    "    \n",
    "    z = \"La función en el intervalo de: -(infinito) a\",puntoscriticos[0],\"es :\",creciodecre\n",
    "    \n",
    "    if prider.subs(x, suma2) > 0 :\n",
    "        creciodecre = \"creciente\"\n",
    "            \n",
    "    elif prider.subs(x, suma2) < 0 :\n",
    "        creciodecre = \"decreciente\"\n",
    "    \n",
    "    print(\"La función en el intervalo de:\",puntoscriticos[0],\"a\",puntoscriticos[1],\"es :\",creciodecre)\n",
    "    \n",
    "    u = \"La función en el intervalo de:\",puntoscriticos[0],\"a\",puntoscriticos[1],\"es :\",creciodecre\n",
    "    \n",
    "    if prider.subs(x, suma3) > 0 :\n",
    "        creciodecre = \"creciente\"\n",
    "            \n",
    "    elif prider.subs(x, suma3) < 0 :\n",
    "        creciodecre = \"decreciente\"\n",
    "    \n",
    "    print(\"La función en el intervalo de:\",puntoscriticos[1],\"a + (infinito) es :\", creciodecre)\n",
    "    \n",
    "    g = \"La función en el intervalo de:\",puntoscriticos[1],\"a + (infinito) es :\", creciodecre\n",
    "    \n",
    "    pi = solve(Eq(segder,0))\n",
    "    \n",
    "    print('El punto de inflexión es:', pi)\n",
    "    \n",
    "    Anau = 'El punto de inflexión es:', pi\n",
    "    \n",
    "    numerosa = int(2)\n",
    "    suma34 = pi[0] + numerosa\n",
    "    suma43 = pi[0] - numerosa\n",
    "    \n",
    "    if segder.subs(x, suma34) > 0 :\n",
    "        concavidades = \"concava\"\n",
    "            \n",
    "    elif segder.subs(x, suma34) < 0 :\n",
    "        concavidades = \"convexa\"\n",
    "    \n",
    "    print(\"La función en el intervalo de:\",pi[0],\"a (infinito) es :\",concavidades)\n",
    "    \n",
    "    t = \"La función en el intervalo de:\",pi[0],\"a (infinito) es :\",concavidades\n",
    "    \n",
    "    if segder.subs(x, suma43) > 0 :\n",
    "        concavidades = \"concava\"\n",
    "            \n",
    "    elif segder.subs(x, suma43) < 0 :\n",
    "        concavidades = \"convexa\"\n",
    "    \n",
    "    print(\"La funcion en el intervalo de:-(infinito) a\",pi[0],\"es :\",concavidades)\n",
    "    \n",
    "    v = \"La funcion en el intervalo de:-(infinito) a\",pi[0],\"es :\",concavidades\n",
    "    \n",
    "    \n",
    "    \n",
    "    \n",
    "    \n",
    "    maximo1 = puntoscriticos[0]\n",
    "    minimo1 = puntoscriticos[1]\n",
    "    maximo11 = f.subs(x, maximo1)\n",
    "    minimo11 = f.subs(x, minimo1)\n",
    "    print('maximo1:', maximo1, 'minimo1:', minimo1, 'maximo11:', maximo11, 'minimo11:', minimo11)\n",
    "    print('Función original', f)\n",
    "    print('Primer derivada', prider)\n",
    "    print('Segunda derivada', segder)\n",
    "    print('Las raices', raices)\n",
    "\n",
    "\n",
    "    \n",
    "    r  = str(maximo1)\n",
    "    q = str(minimo1)\n",
    "    ñ = str(raices)\n",
    "    m = str(f)\n",
    "    w = str(segder)\n",
    "    k = str(prider)\n",
    "    h = str(z)\n",
    "    s = str(u)\n",
    "    f = str(g)\n",
    "    d = str(t)\n",
    "    b = str(v)\n",
    "    Lena = str(Anau)\n",
    "\n",
    "\n",
    "\n",
    "    z = file = open('caracteristicas.txt', 'w')\n",
    "    file.write('Módulos de cálculo de la función')\n",
    "    file.write('\\n')\n",
    "    file.write(m)\n",
    "    file.write('\\n')\n",
    "    file.write('son:')\n",
    "    file.write('\\n')\n",
    "    file.write('\\n')\n",
    "    file.write('El punto máximo es:')\n",
    "    file.write(r)\n",
    "    file.write('\\n')\n",
    "    file.write('El punto minimo es:')\n",
    "    file.write(q)\n",
    "    file.write('\\n')\n",
    "    file.write('Las raices son:')\n",
    "    file.write(ñ)\n",
    "    file.write('\\n')\n",
    "    file.write('La función original es:')\n",
    "    file.write(m)\n",
    "    file.write('\\n')\n",
    "    file.write('Primer derivada es:')\n",
    "    file.write(k)\n",
    "    file.write('\\n')\n",
    "    file.write('Segunda derivada es:')\n",
    "    file.write(w)\n",
    "    file.write('\\n')\n",
    "    file.write(h)\n",
    "    file.write('\\n')\n",
    "    file.write(s)\n",
    "    file.write('\\n')\n",
    "    file.write(f)\n",
    "    file.write('\\n')\n",
    "    file.write(d)\n",
    "    file.write('\\n')\n",
    "    file.write(b)\n",
    "    file.write('\\n')\n",
    "    file.write(Lena)\n",
    "    p = file.close()\n",
    "    "
   ]
  },
  {
   "cell_type": "code",
   "execution_count": 6,
   "metadata": {},
   "outputs": [
    {
     "name": "stdout",
     "output_type": "stream",
     "text": [
      "Termino al cubo:1\n",
      "Termino al cuadrado:-6\n",
      "Termino lineal:-15\n",
      "Termino independiente:40\n",
      "x = -1.000000 (Maximo)\n",
      "x = 5.000000 (Minimo)\n",
      "La función en el intervalo de: -(infinito) a -1 es : creciente\n",
      "La función en el intervalo de: -1 a 5 es : decreciente\n",
      "La función en el intervalo de: 5 a + (infinito) es : creciente\n",
      "El punto de inflexión es: [2]\n",
      "La función en el intervalo de: 2 a (infinito) es : concava\n",
      "La funcion en el intervalo de:-(infinito) a 2 es : convexa\n",
      "maximo1: -1 minimo1: 5 maximo11: 48 minimo11: -60\n",
      "Función original x**3 - 6*x**2 - 15*x + 40\n",
      "Primer derivada 3*x**2 - 12*x - 15\n",
      "Segunda derivada 6*(x - 2)\n",
      "Las raices [ 7.30388963 -3.08125872  1.77736909]\n"
     ]
    }
   ],
   "source": [
    "prueba(f, -5, 8)"
   ]
  },
  {
   "cell_type": "code",
   "execution_count": 15,
   "metadata": {},
   "outputs": [],
   "source": [
    "def grafica():\n",
    "    a = float(input('Introduce la primer raiz:'))\n",
    "    b = float(input('Introduce la segunda raiz:'))\n",
    "    c = float(input('Introduce la tercera raiz:'))\n",
    "    maximo1 = float(input('Introduce el maximo1:'))\n",
    "    minimo1 = float(input('Introduce el minimo1:'))\n",
    "    maximo11 = float(input('Introduce el maximo11:'))\n",
    "    minimo11 = float(input('Introduce el minimo11:'))\n",
    "    pi = float(input('Introduce el punto de inflexión:'))\n",
    "    x = np.linspace(-5, 8, 10000)\n",
    "    f = x**3 - 6*x**2 - 15*x + 40\n",
    "    plt.scatter(a, 0, label = 'Raiz función original', color = 'y')\n",
    "    plt.scatter(b, 0, label = 'Raiz función original', color = 'm')\n",
    "    plt.scatter(c, 0, label = 'Raiz función original', color = 'c')\n",
    "    plt.plot((maximo1, maximo1), (0, maximo11))\n",
    "    plt.scatter(maximo1, 0, label = 'punto máximo')\n",
    "    plt.plot((minimo1, minimo1), (0, minimo11))\n",
    "    plt.scatter(minimo1, 0, label = 'punto minimo')\n",
    "    plt.scatter(pi, 0, label = 'punto de inflexión', color = 'r')\n",
    "    plt.plot(x, f)\n",
    "    plt.plot((-5,8), (0,0), color = 'k')\n",
    "    plt.grid()\n",
    "    plt.legend()\n",
    "    plt.savefig('Grafica Modulos de Calculo de la Función',format = 'pdf',dpi = 300, transparent = True)"
   ]
  },
  {
   "cell_type": "code",
   "execution_count": 16,
   "metadata": {},
   "outputs": [
    {
     "name": "stdout",
     "output_type": "stream",
     "text": [
      "Introduce la primer raiz: 7.30388963 \n",
      "Introduce la segunda raiz:-3.08125872 \n",
      "Introduce la tercera raiz: 1.77736909\n",
      "Introduce el maximo1:-1\n",
      "Introduce el minimo1:5\n",
      "Introduce el maximo11:48\n",
      "Introduce el minimo11:-60\n",
      "Introduce el punto de inflexión:2\n"
     ]
    },
    {
     "data": {
      "image/png": "[encoded data removed]",
      "text/plain": [
       "<Figure size 432x288 with 1 Axes>"
      ]
     },
     "metadata": {
      "needs_background": "light"
     },
     "output_type": "display_data"
    }
   ],
   "source": [
    "grafica()"
   ]
  }
 ],
 "metadata": {
  "kernelspec": {
   "display_name": "Python 3",
   "language": "python",
   "name": "python3"
  },
  "language_info": {
   "codemirror_mode": {
    "name": "ipython",
    "version": 3
   },
   "file_extension": ".py",
   "mimetype": "text/x-python",
   "name": "python",
   "nbconvert_exporter": "python",
   "pygments_lexer": "ipython3",
   "version": "3.8.3"
  }
 },
 "nbformat": 4,
 "nbformat_minor": 4
}
